{
 "cells": [
  {
   "cell_type": "markdown",
   "metadata": {},
   "source": [
    "# What Michelin Guide Restaurants are Participating in Restaurant Week?\n",
    "We can answer this question with some web scraping :-)"
   ]
  },
  {
   "cell_type": "markdown",
   "metadata": {},
   "source": [
    "## First, get the list of restaurant week restaurants"
   ]
  },
  {
   "cell_type": "markdown",
   "metadata": {},
   "source": [
    "We can fetch all the restaurant data from the nice API at https://service.nycgo.com/"
   ]
  },
  {
   "cell_type": "code",
   "execution_count": 1,
   "metadata": {},
   "outputs": [],
   "source": [
    "import requests, json\n",
    "url = 'https://service.nycgo.com/nycgo/v2/body-grid-blocks?entryId=411&gridId=restaurant-week&randomizeFirst=true&callback=ng_jsonp_callback_1'\n",
    "resp = requests.get(url).content.decode('utf-8')\n",
    "\n",
    "# The request has some extra characters the the beginning and end\n",
    "# which wrap the JSON object, hence the hacky [24:-2] indexing\n",
    "restaurant_data = json.loads(resp[24:-2])['data'][0]['gridItems']"
   ]
  },
  {
   "cell_type": "code",
   "execution_count": 2,
   "metadata": {},
   "outputs": [
    {
     "name": "stdout",
     "output_type": "stream",
     "text": [
      "662\n"
     ]
    }
   ],
   "source": [
    "restaurant_week_names = []\n",
    "for rdata in restaurant_data:\n",
    "    restaurant_week_names.append(rdata['displayTitle'])\n",
    "\n",
    "# Sanity check: should be 662 as of 7/28/2022\n",
    "print(len(restaurant_week_names))"
   ]
  },
  {
   "cell_type": "markdown",
   "metadata": {},
   "source": [
    "## Second, get the names and ratings of NYC restaurants on the Michelin Guide\n",
    "There didn't seem to be an easy place to get the restaurants like in the former example, so we resort to scraping with Selenium"
   ]
  },
  {
   "cell_type": "code",
   "execution_count": 3,
   "metadata": {},
   "outputs": [],
   "source": [
    "from selenium import webdriver\n",
    "from selenium.webdriver.common.by import By\n",
    "from selenium.webdriver.chrome.options import Options\n",
    "from webdriver_manager.chrome import ChromeDriverManager"
   ]
  },
  {
   "cell_type": "code",
   "execution_count": 4,
   "metadata": {},
   "outputs": [
    {
     "name": "stdout",
     "output_type": "stream",
     "text": [
      "\n"
     ]
    },
    {
     "name": "stderr",
     "output_type": "stream",
     "text": [
      "/var/folders/jh/ff54n4cs6rn981l4w_dg6bb00000gn/T/ipykernel_7407/1741075850.py:4: DeprecationWarning: executable_path has been deprecated, please pass in a Service object\n",
      "  driver = webdriver.Chrome(ChromeDriverManager().install(), options=chrome_options)\n"
     ]
    }
   ],
   "source": [
    "# Initialize a headless browser\n",
    "chrome_options = Options()\n",
    "chrome_options.add_argument(\"--headless\")\n",
    "driver = webdriver.Chrome(ChromeDriverManager().install(), options=chrome_options)"
   ]
  },
  {
   "cell_type": "code",
   "execution_count": 5,
   "metadata": {},
   "outputs": [
    {
     "name": "stdout",
     "output_type": "stream",
     "text": [
      "on page 1 / 25\n",
      "on page 2 / 25\n",
      "on page 3 / 25\n",
      "on page 4 / 25\n",
      "on page 5 / 25\n",
      "on page 6 / 25\n",
      "on page 7 / 25\n",
      "on page 8 / 25\n",
      "on page 9 / 25\n",
      "on page 10 / 25\n",
      "on page 11 / 25\n",
      "on page 12 / 25\n",
      "on page 13 / 25\n",
      "on page 14 / 25\n",
      "on page 15 / 25\n",
      "on page 16 / 25\n",
      "on page 17 / 25\n",
      "on page 18 / 25\n",
      "on page 19 / 25\n",
      "on page 20 / 25\n",
      "on page 21 / 25\n",
      "on page 22 / 25\n",
      "on page 23 / 25\n",
      "on page 24 / 25\n",
      "on page 25 / 25\n"
     ]
    }
   ],
   "source": [
    "from selenium.common.exceptions import StaleElementReferenceException\n",
    "\n",
    "NYC_MICHELIN_PAGES = 25\n",
    "michelin_names = []\n",
    "michelin_ratings = []\n",
    "for page_num in range(1, NYC_MICHELIN_PAGES + 1):\n",
    "    print(f'on page {page_num} / {NYC_MICHELIN_PAGES}')\n",
    "    driver.get(f'https://guide.michelin.com/us/en/new-york-state/new-york/restaurants/page/{page_num}')\n",
    "    name_cards = driver.find_elements(By.CLASS_NAME, 'card__menu-content--title') # restaurant name\n",
    "    rating_cards = driver.find_elements(By.CLASS_NAME, 'card__menu-content--rating') # restaurant rating\n",
    "\n",
    "    # There are two failure modes (that I've found) here as a result of asynchronous page loading:\n",
    "\n",
    "    # 1. name_cards/rating_cards get updated asynchronously after we load the page.\n",
    "    #    This leads to a StaleElementReferenceException. We can fix this by retrying with a try/except.\n",
    "\n",
    "    # 2. name_cards/rating_cards is populated, but with empty strings. We can just check for this in a loop\n",
    "    retry = True\n",
    "    while retry:\n",
    "        try:\n",
    "            while name_cards[0].text == '':\n",
    "                name_cards = driver.find_elements(By.CLASS_NAME, 'card__menu-content--title')\n",
    "                rating_cards = driver.find_elements(By.CLASS_NAME, 'card__menu-content--rating')\n",
    "\n",
    "            retry = False\n",
    "        except StaleElementReferenceException:\n",
    "            name_cards = driver.find_elements(By.CLASS_NAME, 'card__menu-content--title')\n",
    "            rating_cards = driver.find_elements(By.CLASS_NAME, 'card__menu-content--rating')\n",
    "            retry = True\n",
    "            \n",
    "\n",
    "    for name_card, rating_card in zip(name_cards, rating_cards):\n",
    "        restaurant_name = name_card.text\n",
    "        restaurant_rating = rating_card.text\n",
    "        rating = ''\n",
    "        if '=' in restaurant_rating: # '=' denotes Bib Gourmand\n",
    "            rating += ':P'\n",
    "        rating += '' + '*' * restaurant_rating.count('m') # each 'm' denotes a single Michelin star\n",
    "        michelin_names.append(restaurant_name)\n",
    "        michelin_ratings.append(rating)"
   ]
  },
  {
   "cell_type": "code",
   "execution_count": 6,
   "metadata": {},
   "outputs": [
    {
     "name": "stdout",
     "output_type": "stream",
     "text": [
      "482\n"
     ]
    }
   ],
   "source": [
    "# Sanity check: should be 482 as of 7/28/2022\n",
    "print(len(michelin_names))"
   ]
  },
  {
   "cell_type": "markdown",
   "metadata": {},
   "source": [
    "## Finally, get the intersection of our two sets\n",
    "We can definitely do this faster than the O(n^2) nested for loop, but we're not dealing with that much data so it's no big deal :)"
   ]
  },
  {
   "cell_type": "code",
   "execution_count": 7,
   "metadata": {},
   "outputs": [
    {
     "name": "stdout",
     "output_type": "stream",
     "text": [
      "49\n"
     ]
    }
   ],
   "source": [
    "from nltk.metrics.distance import jaccard_distance\n",
    "\n",
    "set_of_rw_and_michelin_restaurants = set()\n",
    "for m_name, m_rating in zip(michelin_names, michelin_ratings):\n",
    "    m_set = set(ch for ch in m_name)\n",
    "    for rw_name in restaurant_week_names:\n",
    "        rw_name = rw_name\n",
    "        rw_set = set(ch for ch in rw_name)\n",
    "        if jaccard_distance(m_set, rw_set) < .2: # imperfect method that is good enough in practice\n",
    "            set_of_rw_and_michelin_restaurants.add(f'{m_name} {m_rating}')\n",
    "\n",
    "print(len(set_of_rw_and_michelin_restaurants))"
   ]
  },
  {
   "cell_type": "markdown",
   "metadata": {},
   "source": [
    "## Print the list in the notebook\n",
    "Obviously, you could also export this to a file if you'd like.\n",
    "\n",
    "Notably, at least Gramercy Tavern and The Modern are missing here due to naming differences across the websites."
   ]
  },
  {
   "cell_type": "code",
   "execution_count": 8,
   "metadata": {},
   "outputs": [
    {
     "name": "stdout",
     "output_type": "stream",
     "text": [
      "Periyali \n",
      "Il Fiorista \n",
      "Schilling \n",
      "Tanoreen :P\n",
      "The Leopard at Des Artistes \n",
      "Pastis \n",
      "Peasant \n",
      "Bar Tulix \n",
      "Veranda \n",
      "JoJo \n",
      "Bâtard *\n",
      "Baar Baar \n",
      "Oso :P\n",
      "Kubeh :P\n",
      "Oceans \n",
      "Gentle Perch :P\n",
      "Wau \n",
      "Eléa \n",
      "Vestry *\n",
      "Gage & Tollner \n",
      "Ci Siamo \n",
      "Hearth \n",
      "Wayan \n",
      "Union Square Cafe \n",
      "Noreetuh \n",
      "Empellón \n",
      "Orsay \n",
      "Junoon \n",
      "Pylos \n",
      "Aburiya Kinnosuke \n",
      "Maya \n",
      "Soba Totto \n",
      "232 Bleecker \n",
      "Il Cortile \n",
      "Huertas \n",
      "Bar Primi :P\n",
      "Golden Unicorn \n",
      "Danji \n",
      "Foragers Table \n",
      "Dagon \n",
      "Kyma \n",
      "The Fulton \n",
      "Lore \n",
      "HanGawi :P\n",
      "Carne Mare \n",
      "Khe-Yo :P\n",
      "Boulud Sud \n",
      "Barbetta \n",
      "Portale \n"
     ]
    }
   ],
   "source": [
    "print('\\n'.join(set_of_rw_and_michelin_restaurants))"
   ]
  }
 ],
 "metadata": {
  "kernelspec": {
   "display_name": "Python 3.9.12 ('env': venv)",
   "language": "python",
   "name": "python3"
  },
  "language_info": {
   "codemirror_mode": {
    "name": "ipython",
    "version": 3
   },
   "file_extension": ".py",
   "mimetype": "text/x-python",
   "name": "python",
   "nbconvert_exporter": "python",
   "pygments_lexer": "ipython3",
   "version": "3.9.12"
  },
  "orig_nbformat": 4,
  "vscode": {
   "interpreter": {
    "hash": "48c56135f1b8423616757521b41bae2a336dec1b0c9eac6efd8837ee6fa4eed1"
   }
  }
 },
 "nbformat": 4,
 "nbformat_minor": 2
}
